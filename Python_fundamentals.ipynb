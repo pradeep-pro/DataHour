{
  "nbformat": 4,
  "nbformat_minor": 0,
  "metadata": {
    "colab": {
      "provenance": [],
      "include_colab_link": true
    },
    "kernelspec": {
      "name": "python3",
      "display_name": "Python 3"
    },
    "language_info": {
      "name": "python"
    }
  },
  "cells": [
    {
      "cell_type": "markdown",
      "metadata": {
        "id": "view-in-github",
        "colab_type": "text"
      },
      "source": [
        "<a href=\"https://colab.research.google.com/github/pradeep-pro/DataHour/blob/main/Python_fundamentals.ipynb\" target=\"_parent\"><img src=\"https://colab.research.google.com/assets/colab-badge.svg\" alt=\"Open In Colab\"/></a>"
      ]
    },
    {
      "cell_type": "markdown",
      "source": [
        "## Variables and Data Types"
      ],
      "metadata": {
        "id": "fPtmzb4ch0qX"
      }
    },
    {
      "cell_type": "markdown",
      "source": [
        "**Numbers**"
      ],
      "metadata": {
        "id": "IyBzJRxqpIiR"
      }
    },
    {
      "cell_type": "code",
      "source": [
        "# Integer\n",
        "age = 38\n",
        "print(age)\n",
        "\n",
        "# Floating\n",
        "weight = 6.5\n",
        "print(weight)\n"
      ],
      "metadata": {
        "id": "5nN4CD74h3vO"
      },
      "execution_count": null,
      "outputs": []
    },
    {
      "cell_type": "markdown",
      "source": [
        "**Strings**"
      ],
      "metadata": {
        "id": "ajfw3uy3pedE"
      }
    },
    {
      "cell_type": "code",
      "source": [
        "name = \"John Doe\"\n",
        "print(name)\n",
        "\n",
        "message = 'Hello, World!'\n",
        "print(message)\n",
        "\n",
        "# slice\n",
        "print(message[0])\n",
        "print(message[:3])\n",
        "print(message[2:4])\n",
        "\n",
        "# concatenating\n",
        "print(\"Welcome \" + name)\n"
      ],
      "metadata": {
        "colab": {
          "base_uri": "https://localhost:8080/"
        },
        "id": "s43_Dk7npoQI",
        "outputId": "f441d3cf-f96c-4805-ee4d-bdf2cd0e2999"
      },
      "execution_count": null,
      "outputs": [
        {
          "output_type": "stream",
          "name": "stdout",
          "text": [
            "John Doe\n",
            "Hello, World!\n",
            "llo\n"
          ]
        }
      ]
    },
    {
      "cell_type": "markdown",
      "source": [
        "**Boolean**"
      ],
      "metadata": {
        "id": "RtwSqCepwDWL"
      }
    },
    {
      "cell_type": "code",
      "source": [
        "is_student = True\n",
        "print(is_student)\n",
        "\n",
        "has_passed_exam = False\n",
        "print(has_passed_exam)\n",
        "\n"
      ],
      "metadata": {
        "id": "Fmz-YccFv_aQ"
      },
      "execution_count": null,
      "outputs": []
    },
    {
      "cell_type": "markdown",
      "source": [
        "## Collections and Data Structures"
      ],
      "metadata": {
        "id": "0f2E6K3ciO_3"
      }
    },
    {
      "cell_type": "markdown",
      "source": [
        "**Lists**"
      ],
      "metadata": {
        "id": "raraZl6-v8yb"
      }
    },
    {
      "cell_type": "code",
      "source": [
        "my_list = [1, 2, 'hello', True]\n",
        "print(my_list)\n",
        "\n",
        "fruits = [\"apple\", \"banana\", \"orange\"]\n",
        "print(fruits)\n",
        "\n",
        "numbers = [1, 2, 3, 4, 5]\n",
        "print(numbers)\n",
        "\n",
        "# slice\n",
        "print(fruits[0])\n",
        "print(fruits[:2])\n",
        "print(fruits[2:3])\n",
        "\n",
        "# concatenating\n",
        "print(numbers * 2)\n",
        "print(numbers + fruits)\n",
        "\n",
        "# length\n",
        "print(len(fruits))"
      ],
      "metadata": {
        "id": "dCRHPuK0wYI3"
      },
      "execution_count": null,
      "outputs": []
    },
    {
      "cell_type": "markdown",
      "source": [
        "**Dictionaries**"
      ],
      "metadata": {
        "id": "Hgg6rWr-xfYV"
      }
    },
    {
      "cell_type": "code",
      "source": [
        "person = {\n",
        "    \"name\": \"Alice\",\n",
        "    \"age\": 30,\n",
        "    \"city\": \"New York\"\n",
        "}\n",
        "print(person)\n"
      ],
      "metadata": {
        "id": "1HL2FOZOxqoy"
      },
      "execution_count": null,
      "outputs": []
    },
    {
      "cell_type": "markdown",
      "source": [
        "**Tuples**"
      ],
      "metadata": {
        "id": "lkVwBiWsyVU2"
      }
    },
    {
      "cell_type": "code",
      "source": [
        "my_tuple = (1, 2, 'hello', True)\n",
        "print(my_tuple)"
      ],
      "metadata": {
        "id": "yZYAvIScyY00"
      },
      "execution_count": null,
      "outputs": []
    },
    {
      "cell_type": "markdown",
      "source": [
        "**Sets**"
      ],
      "metadata": {
        "id": "rZDS-PVtzHjW"
      }
    },
    {
      "cell_type": "code",
      "source": [
        "my_set = {1, 2, 3, 4, 5}\n",
        "print(my_set)"
      ],
      "metadata": {
        "id": "QoZ_zjjxzOel"
      },
      "execution_count": null,
      "outputs": []
    },
    {
      "cell_type": "markdown",
      "source": [
        "## Control Structures"
      ],
      "metadata": {
        "id": "LOkQvxXGiGHw"
      }
    },
    {
      "cell_type": "markdown",
      "source": [
        "**Conditional Statements**"
      ],
      "metadata": {
        "id": "kUjidvYXzaQy"
      }
    },
    {
      "cell_type": "code",
      "source": [
        "age = 25\n",
        "\n",
        "if age < 18:\n",
        "    print(\"You are underage.\")\n",
        "elif age >= 18 and age < 65:\n",
        "    print(\"You are an adult.\")\n",
        "else:\n",
        "    print(\"You are a senior citizen.\")"
      ],
      "metadata": {
        "id": "vok5ny2biJqI"
      },
      "execution_count": null,
      "outputs": []
    },
    {
      "cell_type": "markdown",
      "source": [
        "**Loops**"
      ],
      "metadata": {
        "id": "DehKAdImzjAO"
      }
    },
    {
      "cell_type": "code",
      "source": [
        "fruits = [\"apple\", \"banana\", \"cherry\"]\n",
        "\n",
        "# Using a for loop to iterate over a list\n",
        "for fruit in fruits:\n",
        "    print(fruit)\n",
        "\n",
        "# Using a while loop to repeat a block of code\n",
        "count = 0\n",
        "while count < 5:\n",
        "    print(\"Count:\", count)\n",
        "    count += 1\n"
      ],
      "metadata": {
        "id": "BefSRkVGzo2U"
      },
      "execution_count": null,
      "outputs": []
    },
    {
      "cell_type": "markdown",
      "source": [
        "## Functions and Modules\n"
      ],
      "metadata": {
        "id": "1TuIyPLRiR-N"
      }
    },
    {
      "cell_type": "markdown",
      "source": [
        "**Functions**"
      ],
      "metadata": {
        "id": "kVzSMMLt0Nd8"
      }
    },
    {
      "cell_type": "code",
      "source": [
        "def square(num):\n",
        "    return num ** 2\n",
        "\n",
        "result = square(5)\n",
        "print(result)\n"
      ],
      "metadata": {
        "colab": {
          "base_uri": "https://localhost:8080/"
        },
        "id": "lnhE4zAX0Td8",
        "outputId": "9ecabdf3-7a47-47e5-e7df-d1617f319883"
      },
      "execution_count": null,
      "outputs": [
        {
          "output_type": "stream",
          "name": "stdout",
          "text": [
            "25\n"
          ]
        }
      ]
    },
    {
      "cell_type": "markdown",
      "source": [
        "**Lambda functions**"
      ],
      "metadata": {
        "id": "6Ii3NW471Bap"
      }
    },
    {
      "cell_type": "code",
      "source": [
        "sum = lambda arg1, arg2: arg1 + arg2;\n",
        "\n",
        "# Now you can call sum as a function\n",
        "print(sum( 10, 20 ))"
      ],
      "metadata": {
        "colab": {
          "base_uri": "https://localhost:8080/"
        },
        "id": "q1CyV8Mu1E46",
        "outputId": "213df374-ca9a-49f0-c9ec-ca4bf1f23a2f"
      },
      "execution_count": null,
      "outputs": [
        {
          "output_type": "stream",
          "name": "stdout",
          "text": [
            "30\n"
          ]
        }
      ]
    },
    {
      "cell_type": "code",
      "source": [
        "my_list = [1, 2, 3, 4, 5]\n",
        "list(filter(lambda x: x > 2, my_list))\n",
        "[3, 4, 5]"
      ],
      "metadata": {
        "colab": {
          "base_uri": "https://localhost:8080/"
        },
        "id": "CoZ5V8_M2KME",
        "outputId": "847efb8d-d356-4939-b2a4-782c226a0c6a"
      },
      "execution_count": null,
      "outputs": [
        {
          "output_type": "execute_result",
          "data": {
            "text/plain": [
              "[3, 4, 5]"
            ]
          },
          "metadata": {},
          "execution_count": 5
        }
      ]
    },
    {
      "cell_type": "markdown",
      "source": [
        "**Import a module**"
      ],
      "metadata": {
        "id": "YnowYIeJ0RGR"
      }
    },
    {
      "cell_type": "code",
      "source": [
        "import module_name\n",
        "\n",
        "result = module_name.function_name(arguments)\n"
      ],
      "metadata": {
        "id": "OrVA-fo90f08"
      },
      "execution_count": null,
      "outputs": []
    },
    {
      "cell_type": "markdown",
      "source": [
        "**Import specific functions from a module**"
      ],
      "metadata": {
        "id": "LG8D4uv70kVd"
      }
    },
    {
      "cell_type": "code",
      "source": [
        "from module_name import function_name\n",
        "\n",
        "result = function_name(arguments)\n"
      ],
      "metadata": {
        "id": "aguIB5Yy0qYO"
      },
      "execution_count": null,
      "outputs": []
    },
    {
      "cell_type": "markdown",
      "source": [
        "**Import a module with an alias**"
      ],
      "metadata": {
        "id": "Wf37r4DP0tbB"
      }
    },
    {
      "cell_type": "code",
      "source": [
        "import module_name as alias\n",
        "\n",
        "result = alias.function_name(arguments)\n"
      ],
      "metadata": {
        "id": "-d1Pd5tO0ypb"
      },
      "execution_count": null,
      "outputs": []
    },
    {
      "cell_type": "markdown",
      "source": [
        "**Example using math module**"
      ],
      "metadata": {
        "id": "G8GuiA2F02BI"
      }
    },
    {
      "cell_type": "code",
      "source": [
        "import math\n",
        "\n",
        "result = math.sqrt(25)\n",
        "print(result)  # Output: 5.0\n"
      ],
      "metadata": {
        "colab": {
          "base_uri": "https://localhost:8080/"
        },
        "id": "b2CXkTFP05Pc",
        "outputId": "ca3ee460-004f-4e01-8d8b-a151eba9ccaf"
      },
      "execution_count": null,
      "outputs": [
        {
          "output_type": "stream",
          "name": "stdout",
          "text": [
            "5.0\n"
          ]
        }
      ]
    },
    {
      "cell_type": "markdown",
      "source": [
        "## File Handling"
      ],
      "metadata": {
        "id": "Y2mQHan9ivKv"
      }
    },
    {
      "cell_type": "markdown",
      "source": [
        "**Open a file**"
      ],
      "metadata": {
        "id": "Gx8JRHSk21Ar"
      }
    },
    {
      "cell_type": "code",
      "source": [
        "file = open('file.txt', 'r')\n",
        "# Opens the file.txt in read mode"
      ],
      "metadata": {
        "id": "Fkkq5Pe7iysy"
      },
      "execution_count": null,
      "outputs": []
    },
    {
      "cell_type": "markdown",
      "source": [
        "**Read from a file**"
      ],
      "metadata": {
        "id": "KVbQj_oU25BB"
      }
    },
    {
      "cell_type": "code",
      "source": [
        "content = file.read()\n",
        "content = file.readlines()"
      ],
      "metadata": {
        "id": "Mbz13UA-29X_"
      },
      "execution_count": null,
      "outputs": []
    },
    {
      "cell_type": "markdown",
      "source": [
        "**Write to a file**"
      ],
      "metadata": {
        "id": "AQJGLYlR3X5n"
      }
    },
    {
      "cell_type": "code",
      "source": [
        "file.write('Hello, World!')  # Writes the specified content to the file"
      ],
      "metadata": {
        "id": "z3v0KAm_3ZXI"
      },
      "execution_count": null,
      "outputs": []
    },
    {
      "cell_type": "markdown",
      "source": [
        "**Close the file**"
      ],
      "metadata": {
        "id": "MxiWiAFi3gXy"
      }
    },
    {
      "cell_type": "code",
      "source": [
        "file.close()  # Closes the file"
      ],
      "metadata": {
        "id": "NwIKhflp3oG4"
      },
      "execution_count": null,
      "outputs": []
    },
    {
      "cell_type": "markdown",
      "source": [
        "## Exception Handling"
      ],
      "metadata": {
        "id": "Wt8EbzVx3o84"
      }
    },
    {
      "cell_type": "code",
      "source": [
        "try:\n",
        "    # Code that may raise an exception\n",
        "    # ...\n",
        "except ExceptionType:\n",
        "    # Code to handle the exception\n",
        "    # ...\n"
      ],
      "metadata": {
        "id": "kj38l7SI37Xx"
      },
      "execution_count": null,
      "outputs": []
    },
    {
      "cell_type": "code",
      "source": [
        "try:\n",
        "    file = open('file.txt', 'r')\n",
        "    # Code to work with the file\n",
        "    # ...\n",
        "except FileNotFoundError:\n",
        "    print(\"The file does not exist.\")\n",
        "except Exception as e:\n",
        "    print(\"An error occurred:\", str(e))\n",
        "finally:\n",
        "    file.close()\n",
        "# Ensures the file is closed even if an exception occurred\n"
      ],
      "metadata": {
        "id": "LErgekSg4Qxk"
      },
      "execution_count": null,
      "outputs": []
    },
    {
      "cell_type": "markdown",
      "source": [
        "## Mini-challenge"
      ],
      "metadata": {
        "id": "fmQeBdzRc7vX"
      }
    },
    {
      "cell_type": "code",
      "source": [
        "import math\n",
        "\n",
        "def calculate_circle_area(radius):\n",
        "    area = math.pi * radius ** 2\n",
        "    return area\n",
        "\n",
        "# Prompt the user for the radius of the circle\n",
        "radius = 6\n",
        "\n",
        "# Calculate the area of the circle\n",
        "area = calculate_circle_area(radius)\n",
        "\n",
        "# Print the result\n",
        "print(\"The area of the circle is:\", area)\n"
      ],
      "metadata": {
        "colab": {
          "base_uri": "https://localhost:8080/"
        },
        "id": "TEoMH4Tqc8h8",
        "outputId": "8da5d6d1-1d82-47fb-cb60-e12cd6a4972e"
      },
      "execution_count": null,
      "outputs": [
        {
          "output_type": "stream",
          "name": "stdout",
          "text": [
            "The area of the circle is: 113.09733552923255\n"
          ]
        }
      ]
    }
  ]
}